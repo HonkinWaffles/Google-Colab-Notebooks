{
  "cells": [
    {
      "cell_type": "markdown",
      "metadata": {
        "id": "view-in-github",
        "colab_type": "text"
      },
      "source": [
        "<a href=\"https://colab.research.google.com/github/HonkinWaffles/Google-Colab-Notebooks/blob/main/Honkin_Stable_Diffusion.ipynb\" target=\"_parent\"><img src=\"https://colab.research.google.com/assets/colab-badge.svg\" alt=\"Open In Colab\"/></a>"
      ]
    },
    {
      "cell_type": "markdown",
      "metadata": {
        "id": "6yCG-zQL9ByF"
      },
      "source": [
        "# Stable Diffusion\n",
        "Stable Diffusion (Official)\n",
        "https://github.com/CompVis/stable-diffusion\n",
        "\n",
        "Using Fork: https://github.com/basujindal/stable-diffusion\n",
        "\n",
        "Model Data: v1.4\n"
      ]
    },
    {
      "cell_type": "markdown",
      "metadata": {
        "id": "UMcMvAkLCNh2"
      },
      "source": [
        "## Environment Setup"
      ]
    },
    {
      "cell_type": "markdown",
      "metadata": {
        "id": "6P-0_03uXETK"
      },
      "source": [
        "Setup Stable Diffusion"
      ]
    },
    {
      "cell_type": "markdown",
      "metadata": {
        "id": "7Q8oErRw9M65"
      },
      "source": [
        "# Image Generation\n"
      ]
    },
    {
      "cell_type": "markdown",
      "metadata": {
        "id": "R9Qz33_RBeA7"
      },
      "source": [
        "### TXT2IMG"
      ]
    },
    {
      "cell_type": "markdown",
      "source": [
        "#### Setup"
      ],
      "metadata": {
        "id": "Vt_0AdpceOdp"
      }
    },
    {
      "cell_type": "code",
      "source": [
        "%cd /content/\n",
        "!pip install wget\n",
        "\n",
        "import os, torch, gc, shutil, wget\n",
        "from getpass import getpass\n",
        "from pathlib import Path\n",
        "\n",
        "#Login to GDRIVE for file access\n",
        "LOGIN_GDRIVE = True\n",
        "if LOGIN_GDRIVE and not os.path.exists('/content/drive'):\n",
        "  from google.colab import drive\n",
        "  drive.mount('/content/drive')\n",
        "\n",
        "\n",
        "\n",
        "## Drive paths for Google Colab\n",
        "# Root = /content/drive/MyDrive/GOOGLE_COLAB/\n",
        "# Setup Files = /content/drive/MyDrive/GOOGLE_COLAB/STABLE_DIFF/SETUP\n",
        "# img2img Files = /content/drive/MyDrive/GOOGLE_COLAB/STABLE_DIFF/IMG2IMG\n",
        "# txt2img Files = /content/drive/MyDrive/GOOGLE_COLAB/STABLE_DIFF/TXT2IMG\n",
        "\n",
        "## Make directory structure in drive to set everything up correctly\n",
        "!mkdir -p /content/drive/MyDrive/GOOGLE_COLAB/STABLE_DIFF/IMG2IMG/INPUT /content/drive/MyDrive/GOOGLE_COLAB/STABLE_DIFF/IMG2IMG/OUTPUT /content/drive/MyDrive/GOOGLE_COLAB/STABLE_DIFF/TXT2IMG\n",
        "\n",
        "\n",
        "## Check if file exists in Drive if not download - \n",
        "\n",
        "path_to_file = '/content/drive/MyDrive/GOOGLE_COLAB/STABLE_DIFF/SETUP/Miniconda3-latest-Linux-x86_64.sh'\n",
        "path = Path(path_to_file)\n",
        "\n",
        "if path.is_file():\n",
        "    shutil.copy2('/content/drive/MyDrive/GOOGLE_COLAB/STABLE_DIFF/SETUP/Miniconda3-latest-Linux-x86_64.sh', '/content/')\n",
        "    print('Copying local version of Conda')\n",
        "else:\n",
        "    wget.download('https://repo.anaconda.com/miniconda/Miniconda3-latest-Linux-x86_64.sh')\n",
        "    print('Downloading Miniconda from internet - Consider adding a copy to `/content/drive/MyDrive/GOOGLE_COLAB/STABLE_DIFF/SETUP/`')\n",
        "\n",
        "\n",
        "# Setup Miniconda\n",
        "!chmod +x Miniconda3-latest-Linux-x86_64.sh\n",
        "!bash ./Miniconda3-latest-Linux-x86_64.sh -b -f -p /usr/local\n",
        "!conda init bash\n",
        "!conda install wget -y\n",
        "!conda install diffusers -y \n",
        "\n",
        "# Clone the Basujindal Stable-Diffusion\n",
        "!git clone https://github.com/basujindal/stable-diffusion.git\n",
        "import os\n",
        "os.chdir('stable-diffusion')\n",
        "!mkdir -p models/ldm/stable-diffusion-v1/\n",
        "\n",
        "\n",
        "## Copy over the model file from Drive\n",
        "path_to_file = '/content/drive/MyDrive/GOOGLE_COLAB/STABLE_DIFF/SETUP/sd-v1-4-full-ema.ckpt'\n",
        "path = Path(path_to_file)\n",
        "\n",
        "if path.is_file():\n",
        "    print('Copying local version of models ')\n",
        "    shutil.copy2('/content/drive/MyDrive/GOOGLE_COLAB/STABLE_DIFF/SETUP/sd-v1-4-full-ema.ckpt', 'models/ldm/stable-diffusion-v1/model.ckpt')\n",
        "else:\n",
        "    wget.download('https://www.googleapis.com/storage/v1/b/aai-blog-files/o/sd-v1-4.ckpt?alt=media','models/ldm/stable-diffusion-v1/model.ckpt' )\n",
        "    print('Downloading model from internet - Consider adding the better copy from `Huggingface` to `/content/drive/MyDrive/GOOGLE_COLAB/STABLE_DIFF/SETUP/`')\n",
        "\n",
        "\n",
        "!conda env update -n base -f environment.yaml"
      ],
      "metadata": {
        "id": "6B2iZClMeQ7g"
      },
      "execution_count": null,
      "outputs": []
    },
    {
      "cell_type": "markdown",
      "source": [
        "#### Generator"
      ],
      "metadata": {
        "id": "fOaD1nOueUhO"
      }
    },
    {
      "cell_type": "code",
      "execution_count": null,
      "metadata": {
        "id": "3zX1Srtlh7iO"
      },
      "outputs": [],
      "source": [
        "#@markdown Fill out the prompt and image details then run the code to generate images inside of `drive/MyDrive/AI_PICS/TXT2IMG`\n",
        "\n",
        "#@markdown ---\n",
        "PROMPT = \"Testing Prompt for specifc things\" #@param {type:'string'}\n",
        "STEPS = 75 #@param {type:\"slider\", min:5, max:500, step:5} \n",
        "SEED = 0 #@param {type:'integer'}\n",
        "NUM_ITERS = 1 #@param {type:\"slider\", min:1, max:100, step:1} \n",
        "WIDTH = 576 #@param {type:\"slider\", min:256, max:1920, step:64}\n",
        "HEIGHT = 704 #@param {type:\"slider\", min:256, max:1920, step:64}\n",
        "SCALE = 15.3 #@param {type:\"slider\", min:0, max:25, step:0.1}\n",
        "#@markdown ---\n",
        "\n",
        "if SEED == 0:\n",
        "  SEED=42\n",
        "\n",
        "!python optimizedSD/optimized_txt2img.py \\\n",
        "--n_samples 1 \\\n",
        "--n_iter $NUM_ITERS \\\n",
        "--scale $SCALE \\\n",
        "--H $HEIGHT \\\n",
        "--W $WIDTH \\\n",
        "--seed $SEED \\\n",
        "--ddim_steps $STEPS \\\n",
        "--outdir /content/drive/MyDrive/GOOGLE_COLAB/STABLE_DIFF/TXT2IMG/ \\\n",
        "--prompt \"$PROMPT\"\n",
        "\n"
      ]
    },
    {
      "cell_type": "markdown",
      "metadata": {
        "id": "qIfZsQ6pQN_Q"
      },
      "source": [
        "### IMG2IMG\n"
      ]
    },
    {
      "cell_type": "markdown",
      "source": [
        "#### Setup"
      ],
      "metadata": {
        "id": "zgWMD_tmebtg"
      }
    },
    {
      "cell_type": "code",
      "source": [
        "%cd /content/\n",
        "!pip install wget\n",
        "\n",
        "import os, torch, gc, shutil, wget\n",
        "from getpass import getpass\n",
        "from pathlib import Path\n",
        "\n",
        "#Login to GDRIVE for file access\n",
        "LOGIN_GDRIVE = True\n",
        "if LOGIN_GDRIVE and not os.path.exists('/content/drive'):\n",
        "  from google.colab import drive\n",
        "  drive.mount('/content/drive')\n",
        "\n",
        "\n",
        "\n",
        "## Drive paths for Google Colab\n",
        "# Root = /content/drive/MyDrive/GOOGLE_COLAB/\n",
        "# Setup Files = /content/drive/MyDrive/GOOGLE_COLAB/STABLE_DIFF/SETUP\n",
        "# img2img Files = /content/drive/MyDrive/GOOGLE_COLAB/STABLE_DIFF/IMG2IMG\n",
        "# txt2img Files = /content/drive/MyDrive/GOOGLE_COLAB/STABLE_DIFF/TXT2IMG\n",
        "\n",
        "## Make directory structure in drive to set everything up correctly\n",
        "!mkdir -p /content/drive/MyDrive/GOOGLE_COLAB/STABLE_DIFF/IMG2IMG/INPUT /content/drive/MyDrive/GOOGLE_COLAB/STABLE_DIFF/IMG2IMG/OUTPUT /content/drive/MyDrive/GOOGLE_COLAB/STABLE_DIFF/TXT2IMG\n",
        "\n",
        "\n",
        "## Check if file exists in Drive if not download - \n",
        "\n",
        "path_to_file = '/content/drive/MyDrive/GOOGLE_COLAB/STABLE_DIFF/SETUP/Miniconda3-latest-Linux-x86_64.sh'\n",
        "path = Path(path_to_file)\n",
        "\n",
        "if path.is_file():\n",
        "    shutil.copy2('/content/drive/MyDrive/GOOGLE_COLAB/STABLE_DIFF/SETUP/Miniconda3-latest-Linux-x86_64.sh', '/content/')\n",
        "    print('Copying local version of Conda')\n",
        "else:\n",
        "    wget.download('https://repo.anaconda.com/miniconda/Miniconda3-latest-Linux-x86_64.sh')\n",
        "    print('Downloading Miniconda from internet - Consider adding a copy to `/content/drive/MyDrive/GOOGLE_COLAB/STABLE_DIFF/SETUP/`')\n",
        "\n",
        "\n",
        "# Setup Miniconda\n",
        "!chmod +x Miniconda3-latest-Linux-x86_64.sh\n",
        "!bash ./Miniconda3-latest-Linux-x86_64.sh -b -f -p /usr/local\n",
        "!conda init bash\n",
        "!conda install wget -y\n",
        "!conda install diffusers -y \n",
        "\n",
        "# Clone the Basujindal Stable-Diffusion\n",
        "!git clone https://github.com/basujindal/stable-diffusion.git\n",
        "import os\n",
        "os.chdir('stable-diffusion')\n",
        "!mkdir -p models/ldm/stable-diffusion-v1/\n",
        "\n",
        "\n",
        "## Copy over the model file from Drive\n",
        "path_to_file = '/content/drive/MyDrive/GOOGLE_COLAB/STABLE_DIFF/SETUP/sd-v1-4-full-ema.ckpt'\n",
        "path = Path(path_to_file)\n",
        "\n",
        "if path.is_file():\n",
        "    print('Copying local version of models ')\n",
        "    shutil.copy2('/content/drive/MyDrive/GOOGLE_COLAB/STABLE_DIFF/SETUP/sd-v1-4-full-ema.ckpt', 'models/ldm/stable-diffusion-v1/model.ckpt')\n",
        "else:\n",
        "    wget.download('https://www.googleapis.com/storage/v1/b/aai-blog-files/o/sd-v1-4.ckpt?alt=media','models/ldm/stable-diffusion-v1/model.ckpt' )\n",
        "    print('Downloading model from internet - Consider adding the better copy from `Huggingface` to `/content/drive/MyDrive/GOOGLE_COLAB/STABLE_DIFF/SETUP/`')\n",
        "\n",
        "\n",
        "!conda env update -n base -f environment.yaml"
      ],
      "metadata": {
        "id": "YslcGWsuedTX"
      },
      "execution_count": null,
      "outputs": []
    },
    {
      "cell_type": "markdown",
      "source": [
        "#### Generator"
      ],
      "metadata": {
        "id": "6PH_b9jKeeK6"
      }
    },
    {
      "cell_type": "code",
      "execution_count": null,
      "metadata": {
        "id": "qE2oRB6xQMsk"
      },
      "outputs": [],
      "source": [
        "import os\n",
        "from google.colab import files\n",
        "import shutil\n",
        "\n",
        "#@markdown Modifies and existing images using a prompt generated by the user\n",
        "\n",
        "\n",
        "#@markdown ---\n",
        "\n",
        "PROMPT = \"Big car go fast\" #@param {type:'string'}\n",
        "STEPS = 100 #@param {type:\"slider\", min:5, max:500, step:5} \n",
        "NUM_ITERS = 1 #@param {type:\"slider\", min:1, max:100, step:1} \n",
        "#@markdown ---\n",
        "\n",
        "!mkdir -p upload\n",
        "upload_folder = 'upload'\n",
        "\n",
        "# upload images\n",
        "uploaded = files.upload()\n",
        "\n",
        "for filename in uploaded.keys():\n",
        "  dst_path = os.path.join(upload_folder, filename)\n",
        "  print(f'move {filename} to {dst_path}')\n",
        "  shutil.move(filename, dst_path)\n",
        "\n",
        "\n",
        "!python optimizedSD/optimized_img2img.py \\\n",
        "--prompt \"$PROMPT\" \\\n",
        "--n_iter $NUM_ITERS \\\n",
        "--strength 0.7 \\\n",
        "--ddim_steps $STEPS \\\n",
        "--outdir /content/drive/MyDrive/GOOGLE_COLAB/STABLE_DIFF/IMG2IMG/OUTPUT/ \\\n",
        "--init-img $dst_path\n"
      ]
    },
    {
      "cell_type": "markdown",
      "source": [
        "## Bulk IMG2IMG"
      ],
      "metadata": {
        "id": "-Ak-C1UrKyxN"
      }
    },
    {
      "cell_type": "markdown",
      "source": [
        "### Setup"
      ],
      "metadata": {
        "id": "9GDQ3mwCZyBc"
      }
    },
    {
      "cell_type": "code",
      "source": [
        "#Login to GDRIVE for file access\n",
        "LOGIN_GDRIVE = True\n",
        "if LOGIN_GDRIVE and not os.path.exists('/content/drive'):\n",
        "  from google.colab import drive\n",
        "  drive.mount('/content/drive')\n",
        "\n",
        "# Drive paths for Google Colab\n",
        "Root = /content/drive/MyDrive/GOOGLE_COLAB/\n",
        "Setup Files = /content/drive/MyDrive/GOOGLE_COLAB/STABLE_DIFF/SETUP\n",
        "img2img Files = /content/drive/MyDrive/GOOGLE_COLAB/STABLE_DIFF/IMG2IMG\n",
        "txt2img Files = /content/drive/MyDrive/GOOGLE_COLAB/STABLE_DIFF/TXT2IMG\n",
        "\n",
        "\n",
        "# Install Requirements \n",
        "!pip install diffusers==0.2.4\n",
        "!pip install transformers scipy ftfy\n",
        "!pip install \"ipywidgets>=7,<8\"\n",
        "!pip install wget\n",
        "\n",
        "# Load Requirements\n",
        "import os, torch, gc, shutil, wget\n",
        "from getpass import getpass\n",
        "from pathlib import Path\n",
        "from huggingface_hub import notebook_login\n",
        "from google.colab import output\n",
        "\n",
        "\n",
        "# Login to Hugging Face API\n",
        "path_to_file = '/content/drive/MyDrive/GOOGLE_COLAB/STABLE_DIFF/SETUP/token'\n",
        "path = Path(path_to_file)\n",
        "\n",
        "if path.is_file():\n",
        "    text_file = open(path_to_file, \"r\")\n",
        "    token = text_file.read()\n",
        "    text_file.close()\n",
        "    !echo $token | huggingface-cli login\n",
        "else:\n",
        "    print('No token found please login manually')\n",
        "    output.enable_custom_widget_manager()\n",
        "    notebook_login()\n"
      ],
      "metadata": {
        "id": "0tCejdYJEM6m"
      },
      "execution_count": null,
      "outputs": []
    },
    {
      "cell_type": "markdown",
      "source": [
        "### Start Pipeline"
      ],
      "metadata": {
        "id": "3bOZ1cXPZ0ow"
      }
    },
    {
      "cell_type": "code",
      "source": [
        "import torch\n",
        "import os\n",
        "import shutil \n",
        "import subprocess\n",
        "from diffusers import StableDiffusionPipeline\n",
        "from torch import autocast\n",
        "from traitlets.config.loader import DeferredConfigString\n",
        "from google.colab import files\n",
        "\n",
        "# make sure you're logged in with `huggingface-cli login`\n",
        "pipe = StableDiffusionPipeline.from_pretrained(\"CompVis/stable-diffusion-v1-4\", revision=\"fp16\", torch_dtype=torch.float16, use_auth_token=True)  \n",
        "pipe = pipe.to(\"cuda\")"
      ],
      "metadata": {
        "id": "949uJI-lKltN"
      },
      "execution_count": 43,
      "outputs": []
    },
    {
      "cell_type": "markdown",
      "source": [
        "### Run Bulk Prompts"
      ],
      "metadata": {
        "id": "kU-dU34JZ5gD"
      }
    },
    {
      "cell_type": "code",
      "source": [
        "import torch\n",
        "import os\n",
        "import shutil \n",
        "import subprocess\n",
        "from diffusers import StableDiffusionPipeline\n",
        "from torch import autocast\n",
        "from traitlets.config.loader import DeferredConfigString\n",
        "from google.colab import files\n",
        "\n",
        "#@markdown Fill out the prompt and image details then run the code to generate images inside of `drive/MyDrive/AI_PICS/TXT2IMG`\n",
        "#@markdown ---\n",
        "STEPS=120 #@param {type:\"slider\", min:5, max:500, step:5} \n",
        "SEED=0 #@param {type:'integer'}\n",
        "NUM_ITERS=1 #@param {type:\"slider\", min:1, max:100, step:1} \n",
        "WIDTH=512 #@param {type:\"slider\", min:256, max:1920, step:64}\n",
        "HEIGHT=512 #@param {type:\"slider\", min:256, max:1920, step:64}\n",
        "SCALE=15.3 #@param {type:\"slider\", min:0, max:25, step:0.1}\n",
        "OUTDIR=\"22-09-03\" #@param {type:'string'}\n",
        "#@markdown ---\n",
        "OUTPUT=\"/content/drive/MyDrive/GOOGLE_COLAB/STABLE_DIFF/TXT2IMG/\" + OUTDIR + \"/\"\n",
        "\n",
        "upload_folder = 'upload'\n",
        "result_folder = 'results'\n",
        "\n",
        "if os.path.isdir(upload_folder):\n",
        "    shutil.rmtree(upload_folder)\n",
        "if os.path.isdir(result_folder):\n",
        "    shutil.rmtree(result_folder)\n",
        "os.mkdir(upload_folder)\n",
        "os.mkdir(result_folder)\n",
        "\n",
        "# upload images\n",
        "uploaded = files.upload()\n",
        "for filename in uploaded.keys():\n",
        "  dst_path = os.path.join(upload_folder, filename)\n",
        "  shutil.move(filename, dst_path)\n",
        "\n",
        "prompts_file = open(dst_path)\n",
        "prompts_imported = prompts_file.read()\n",
        "prompts_split = prompts_imported.splitlines()\n",
        "\n",
        "for x in range(NUM_ITERS):\n",
        "  for i in prompts_split:\n",
        "    with autocast(\"cuda\"):\n",
        "      image = pipe(i, num_inference_steps=STEPS, height=HEIGHT, width=WIDTH)[\"sample\"][0]\n",
        "      as_string = str(x)\n",
        "      path = OUTPUT+i+'/'\n",
        "      isExist = os.path.exists(path)\n",
        "      if not isExist:\n",
        "        os.makedirs(path)\n",
        "        print(\"The new directory is created!\")\n",
        "      image.save(OUTPUT+i+'/'+i+as_string+'.png', 'PNG')\n",
        "\n",
        "\n"
      ],
      "metadata": {
        "id": "av4cNPhYDaUK"
      },
      "execution_count": null,
      "outputs": []
    }
  ],
  "metadata": {
    "accelerator": "GPU",
    "colab": {
      "collapsed_sections": [
        "R9Qz33_RBeA7",
        "Vt_0AdpceOdp",
        "fOaD1nOueUhO",
        "qIfZsQ6pQN_Q",
        "zgWMD_tmebtg",
        "6PH_b9jKeeK6",
        "9GDQ3mwCZyBc",
        "3bOZ1cXPZ0ow"
      ],
      "machine_shape": "hm",
      "provenance": [],
      "include_colab_link": true
    },
    "gpuClass": "standard",
    "kernelspec": {
      "display_name": "Python 3",
      "name": "python3"
    },
    "language_info": {
      "name": "python"
    }
  },
  "nbformat": 4,
  "nbformat_minor": 0
}