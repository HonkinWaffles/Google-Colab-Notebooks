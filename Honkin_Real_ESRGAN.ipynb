{
  "nbformat": 4,
  "nbformat_minor": 0,
  "metadata": {
    "colab": {
      "provenance": [],
      "collapsed_sections": [
        "oSeQH2KsEOjM",
        "ZmsmaJwh81Y4",
        "rfaOWAJmvjqM"
      ],
      "mount_file_id": "17jo9HrCgP9bCu3_d69wVhIUHVWkwxCpH",
      "authorship_tag": "ABX9TyPzwDZ47JoXdCfL2TqWv6kF",
      "include_colab_link": true
    },
    "kernelspec": {
      "name": "python3",
      "display_name": "Python 3"
    },
    "language_info": {
      "name": "python"
    },
    "accelerator": "GPU",
    "gpuClass": "standard"
  },
  "cells": [
    {
      "cell_type": "markdown",
      "metadata": {
        "id": "view-in-github",
        "colab_type": "text"
      },
      "source": [
        "<a href=\"https://colab.research.google.com/github/HonkinWaffles/Google-Colab-Notebooks/blob/main/Honkin_Real_ESRGAN.ipynb\" target=\"_parent\"><img src=\"https://colab.research.google.com/assets/colab-badge.svg\" alt=\"Open In Colab\"/></a>"
      ]
    },
    {
      "cell_type": "markdown",
      "source": [
        "# ESRGRAN\n",
        "Real-ESRGAN - https://github.com/xinntao/Real-ESRGAN\n",
        "\n",
        "Model Data - v4"
      ],
      "metadata": {
        "id": "OdiitLdDBrGm"
      }
    },
    {
      "cell_type": "markdown",
      "source": [
        "## Initial Configuration\n"
      ],
      "metadata": {
        "id": "vqRLQvztvc6X"
      }
    },
    {
      "cell_type": "markdown",
      "source": [
        "### Setup"
      ],
      "metadata": {
        "id": "oSeQH2KsEOjM"
      }
    },
    {
      "cell_type": "code",
      "source": [
        "!pip install wget\n",
        "\n",
        "import os, torch, gc, shutil, wget\n",
        "from getpass import getpass\n",
        "from pathlib import Path\n",
        "\n",
        "#Login to GDRIVE for file access\n",
        "LOGIN_GDRIVE = True\n",
        "if LOGIN_GDRIVE and not os.path.exists('/content/drive'):\n",
        "  from google.colab import drive\n",
        "  drive.mount('/content/drive')\n",
        "\n",
        "## Make directory structure in drive to set everything up correctly\n",
        "!mkdir -p /content/drive/MyDrive/GOOGLE_COLAB/ESRGAN /content/drive/MyDrive/GOOGLE_COLAB/ESRGAN/SETUP /content/drive/MyDrive/GOOGLE_COLAB/ESRGAN/OUTPUT \n",
        "\n",
        "# Clone Real-ESRGAN and enter the Real-ESRGAN\n",
        "!git clone https://github.com/xinntao/Real-ESRGAN.git\n",
        "%cd Real-ESRGAN\n",
        "# Set up the environment\n",
        "!pip install basicsr\n",
        "!pip install facexlib\n",
        "!pip install gfpgan\n",
        "!pip install -r requirements.txt\n",
        "!python setup.py develop\n",
        "\n",
        "# Download the pre-trained model\n",
        "path_to_file = '/content/drive/MyDrive/GOOGLE_COLAB/ESRGAN/SETUP/RealESRGAN_x4.pth'\n",
        "path = Path(path_to_file)\n",
        "\n",
        "if path.is_file():\n",
        "    shutil.copy2('/content/drive/MyDrive/GOOGLE_COLAB/ESRGAN/SETUP/RealESRGAN_x4plus.pth', 'experiments/pretrained_models/RealESRGAN_x4plus.pth')\n",
        "    print('Copying local version of models')\n",
        "else:\n",
        "    wget.download('https://github.com/xinntao/Real-ESRGAN/releases/download/v0.1.0/RealESRGAN_x4plus.pth', 'experiments/pretrained_models/RealESRGAN_x4plus.pth')\n",
        "    print('Downloading Models from internet - Consider downloading and adding it to `/content/drive/MyDrive/GOOGLE_COLAB/ESRGAN/SETUP/`')\n",
        "\n",
        "## Make directory structure in drive to set everything up correctly\n",
        "!mkdir -p /content/drive/MyDrive/GOOGLE_COLAB/ESRGAN /content/drive/MyDrive/GOOGLE_COLAB/ESRGAN/SETUP /content/drive/MyDrive/GOOGLE_COLAB/ESRGAN/OUTPUT \n"
      ],
      "metadata": {
        "id": "VAhh4eW-8zIX"
      },
      "execution_count": null,
      "outputs": []
    },
    {
      "cell_type": "markdown",
      "source": [
        "## Basic Upscale"
      ],
      "metadata": {
        "id": "rfaOWAJmvjqM"
      }
    },
    {
      "cell_type": "code",
      "source": [
        "\n",
        "#@markdown ---\n",
        "#@markdown Size of final image \n",
        "OUT_SCALE = 4 #@param {type:'integer'}\n",
        "#@markdown Precision during inference (16-32) \n",
        "FP = \"32\" #@param {type:'string'}\n",
        "#@markdown ---\n",
        "\n",
        "\n",
        "!python inference_realesrgan.py \\\n",
        "  -n RealESRGAN_x4plus \\\n",
        "  -i upload \\\n",
        "  --fp$FP \\\n",
        "  --outscale $OUT_SCALE \\\n",
        "  --face_enhance \n",
        "# Arguments\n",
        "# -n, --model_name: Model names\n",
        "# -i, --input: input folder or image\n",
        "# --outscale: Output scale, can be arbitrary scale factore. "
      ],
      "metadata": {
        "id": "ehp55tOXvl6_"
      },
      "execution_count": null,
      "outputs": []
    },
    {
      "cell_type": "markdown",
      "source": [
        "#### Download"
      ],
      "metadata": {
        "id": "DtiLGWlHE8MW"
      }
    },
    {
      "cell_type": "code",
      "source": [
        "# Download the results\n",
        "zip_filename = 'Real-ESRGAN_result.zip'\n",
        "if os.path.exists(zip_filename):\n",
        "  os.remove(zip_filename)\n",
        "os.system(f\"zip -r -j {zip_filename} results/*\")\n",
        "files.download(zip_filename)"
      ],
      "metadata": {
        "id": "W74iWMNn9FNh",
        "colab": {
          "base_uri": "https://localhost:8080/",
          "height": 321
        },
        "outputId": "16c86cb9-0246-4062-895f-007a2abde441"
      },
      "execution_count": null,
      "outputs": [
        {
          "output_type": "error",
          "ename": "FileNotFoundError",
          "evalue": "ignored",
          "traceback": [
            "\u001b[0;31m---------------------------------------------------------------------------\u001b[0m",
            "\u001b[0;31mFileNotFoundError\u001b[0m                         Traceback (most recent call last)",
            "\u001b[0;32m<ipython-input-18-a16867ab1a8a>\u001b[0m in \u001b[0;36m<module>\u001b[0;34m\u001b[0m\n\u001b[1;32m      4\u001b[0m   \u001b[0mos\u001b[0m\u001b[0;34m.\u001b[0m\u001b[0mremove\u001b[0m\u001b[0;34m(\u001b[0m\u001b[0mzip_filename\u001b[0m\u001b[0;34m)\u001b[0m\u001b[0;34m\u001b[0m\u001b[0;34m\u001b[0m\u001b[0m\n\u001b[1;32m      5\u001b[0m \u001b[0mos\u001b[0m\u001b[0;34m.\u001b[0m\u001b[0msystem\u001b[0m\u001b[0;34m(\u001b[0m\u001b[0;34mf\"zip -r -j {zip_filename} results/*\"\u001b[0m\u001b[0;34m)\u001b[0m\u001b[0;34m\u001b[0m\u001b[0;34m\u001b[0m\u001b[0m\n\u001b[0;32m----> 6\u001b[0;31m \u001b[0mfiles\u001b[0m\u001b[0;34m.\u001b[0m\u001b[0mdownload\u001b[0m\u001b[0;34m(\u001b[0m\u001b[0mzip_filename\u001b[0m\u001b[0;34m)\u001b[0m\u001b[0;34m\u001b[0m\u001b[0;34m\u001b[0m\u001b[0m\n\u001b[0m",
            "\u001b[0;32m/usr/local/lib/python3.7/dist-packages/google/colab/files.py\u001b[0m in \u001b[0;36mdownload\u001b[0;34m(filename)\u001b[0m\n\u001b[1;32m    179\u001b[0m   \u001b[0;32mif\u001b[0m \u001b[0;32mnot\u001b[0m \u001b[0m_os\u001b[0m\u001b[0;34m.\u001b[0m\u001b[0mpath\u001b[0m\u001b[0;34m.\u001b[0m\u001b[0mexists\u001b[0m\u001b[0;34m(\u001b[0m\u001b[0mfilename\u001b[0m\u001b[0;34m)\u001b[0m\u001b[0;34m:\u001b[0m\u001b[0;34m\u001b[0m\u001b[0;34m\u001b[0m\u001b[0m\n\u001b[1;32m    180\u001b[0m     \u001b[0mmsg\u001b[0m \u001b[0;34m=\u001b[0m \u001b[0;34m'Cannot find file: {}'\u001b[0m\u001b[0;34m.\u001b[0m\u001b[0mformat\u001b[0m\u001b[0;34m(\u001b[0m\u001b[0mfilename\u001b[0m\u001b[0;34m)\u001b[0m\u001b[0;34m\u001b[0m\u001b[0;34m\u001b[0m\u001b[0m\n\u001b[0;32m--> 181\u001b[0;31m     \u001b[0;32mraise\u001b[0m \u001b[0mFileNotFoundError\u001b[0m\u001b[0;34m(\u001b[0m\u001b[0mmsg\u001b[0m\u001b[0;34m)\u001b[0m  \u001b[0;31m# pylint: disable=undefined-variable\u001b[0m\u001b[0;34m\u001b[0m\u001b[0;34m\u001b[0m\u001b[0m\n\u001b[0m\u001b[1;32m    182\u001b[0m \u001b[0;34m\u001b[0m\u001b[0m\n\u001b[1;32m    183\u001b[0m   \u001b[0mcomm_manager\u001b[0m \u001b[0;34m=\u001b[0m \u001b[0m_IPython\u001b[0m\u001b[0;34m.\u001b[0m\u001b[0mget_ipython\u001b[0m\u001b[0;34m(\u001b[0m\u001b[0;34m)\u001b[0m\u001b[0;34m.\u001b[0m\u001b[0mkernel\u001b[0m\u001b[0;34m.\u001b[0m\u001b[0mcomm_manager\u001b[0m\u001b[0;34m\u001b[0m\u001b[0;34m\u001b[0m\u001b[0m\n",
            "\u001b[0;31mFileNotFoundError\u001b[0m: Cannot find file: Real-ESRGAN_result.zip"
          ]
        }
      ]
    },
    {
      "cell_type": "markdown",
      "source": [
        "## Bulk Upscale\n"
      ],
      "metadata": {
        "id": "YAJ0aKUfFmw9"
      }
    },
    {
      "cell_type": "markdown",
      "source": [
        "### Upload"
      ],
      "metadata": {
        "id": "ZmsmaJwh81Y4"
      }
    },
    {
      "cell_type": "code",
      "source": [
        "import os\n",
        "from google.colab import files\n",
        "import shutil\n",
        "import zipfile\n",
        "\n",
        "upload_folder = 'upload'\n",
        "result_folder = 'results'\n",
        "\n",
        "if os.path.isdir(upload_folder):\n",
        "    shutil.rmtree(upload_folder)\n",
        "if os.path.isdir(result_folder):\n",
        "    shutil.rmtree(result_folder)\n",
        "os.mkdir(upload_folder)\n",
        "os.mkdir(result_folder)\n",
        "\n",
        "# Download the pre-trained model\n",
        "FOLDER_NAME = \"22-09-04-Personal\" #@param {type:'string'}\n",
        "\n",
        "path_to_file = '/content/drive/MyDrive/GOOGLE_COLAB/STABLE_DIFF/TXT2IMG/' + FOLDER_NAME + '/'\n",
        "path = Path(path_to_file)\n",
        "print(path_to_file)\n",
        "print(path)\n",
        "\n",
        "if path.is_dir():\n",
        "    # Copy photos from drive\n",
        "    isExist = os.path.exists(upload_folder)\n",
        "    if isExist:\n",
        "      shutil.rmtree(upload_folder)\n",
        "      print(\"The upload directory has been removed!\")\n",
        "    shutil.copytree(path_to_file, 'upload')\n",
        "    print('Copying images over')\n",
        "else:\n",
        "    #Upload photos via Colab\n",
        "    isExist = os.path.exists(upload_folder)\n",
        "    if not isExist:\n",
        "      os.mkdir(upload_folder)\n",
        "      print(\"The upload directory is created!\")\n",
        "    uploaded = files.upload()\n",
        "    for filename in uploaded.keys():\n",
        "      dst_path = os.path.join(upload_folder, filename)\n",
        "      print(f'move {filename} to {dst_path}')\n",
        "      shutil.move(filename, dst_path)"
      ],
      "metadata": {
        "id": "wzWC1Rke873z"
      },
      "execution_count": null,
      "outputs": []
    },
    {
      "cell_type": "markdown",
      "source": [
        "### Run ESRGRAN\n"
      ],
      "metadata": {
        "id": "YSyLRimwE1og"
      }
    },
    {
      "cell_type": "code",
      "source": [
        "import glob\n",
        "import os\n",
        "#@markdown ---\n",
        "#@markdown Size of final image \n",
        "OUT_SCALE = 4 #@param {type:'integer'}\n",
        "#@markdown Precision during inference (16-32) \n",
        "FP = \"32\" #@param {type:'string'}\n",
        "#@markdown ---\n",
        "\n",
        "\n",
        "## Loop through each image inside the subfolders\n",
        "rootdir = 'upload'\n",
        "for file in os.listdir(rootdir):\n",
        "    d = os.path.join(rootdir, file)\n",
        "    if os.path.isdir(d):\n",
        "        OUTPUT = d.rsplit('/', 1)[1]\n",
        "        OUTPUT = (f\"'results/\" + OUTPUT +  \"'\")\n",
        "        d = f'\"{d}\"'\n",
        "        !python  inference_realesrgan.py \\\n",
        "        -n RealESRGAN_x4plus \\\n",
        "        -i $d \\\n",
        "        --fp$FP \\\n",
        "        --output $OUTPUT \\\n",
        "        --outscale $OUT_SCALE  \\\n",
        "        --face_enhance \n",
        "\n",
        "\n",
        "# Copy results back to drive\n",
        "results_up = \"/content/drive/MyDrive/GOOGLE_COLAB/ESRGAN/OUTPUT/\" + FOLDER_NAME + \"/\"\n",
        "isExist = os.path.exists(results_up)\n",
        "if not isExist:\n",
        "  os.mkdir(results_up)\n",
        "  print(\"The upload directory is created!\")\n",
        "\n",
        "!cp -r /content/Real-ESRGAN/results/* $results_up\n"
      ],
      "metadata": {
        "id": "PrpiFmtX9Aa7"
      },
      "execution_count": null,
      "outputs": []
    }
  ]
}